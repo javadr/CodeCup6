{
 "cells": [
  {
   "cell_type": "code",
   "execution_count": 1,
   "id": "fa63f1eb",
   "metadata": {},
   "outputs": [],
   "source": [
    "import pandas as pd\n",
    "\n",
    "from sklearn.preprocessing import LabelEncoder"
   ]
  },
  {
   "cell_type": "code",
   "execution_count": 2,
   "id": "6b04cfa4",
   "metadata": {},
   "outputs": [],
   "source": [
    "dfTrain = pd.read_csv('travel_insurance/train.csv')\n",
    "dfTest = pd.read_csv('travel_insurance/test.csv')"
   ]
  },
  {
   "cell_type": "code",
   "execution_count": 3,
   "id": "14f67d38",
   "metadata": {},
   "outputs": [
    {
     "name": "stdout",
     "output_type": "stream",
     "text": [
      "<class 'pandas.core.frame.DataFrame'>\n",
      "RangeIndex: 1590 entries, 0 to 1589\n",
      "Data columns (total 10 columns):\n",
      " #   Column               Non-Null Count  Dtype \n",
      "---  ------               --------------  ----- \n",
      " 0   Customer Id          1590 non-null   object\n",
      " 1   Age                  1590 non-null   int64 \n",
      " 2   Employment Type      1590 non-null   object\n",
      " 3   GraduateOrNot        1590 non-null   object\n",
      " 4   AnnualIncome         1590 non-null   int64 \n",
      " 5   FamilyMembers        1590 non-null   int64 \n",
      " 6   ChronicDiseases      1590 non-null   int64 \n",
      " 7   FrequentFlyer        1590 non-null   object\n",
      " 8   EverTravelledAbroad  1590 non-null   object\n",
      " 9   TravelInsurance      1590 non-null   object\n",
      "dtypes: int64(4), object(6)\n",
      "memory usage: 124.3+ KB\n"
     ]
    }
   ],
   "source": [
    "dfTrain.info()"
   ]
  },
  {
   "cell_type": "code",
   "execution_count": 4,
   "id": "9511f934",
   "metadata": {},
   "outputs": [
    {
     "data": {
      "text/html": [
       "<div>\n",
       "<style scoped>\n",
       "    .dataframe tbody tr th:only-of-type {\n",
       "        vertical-align: middle;\n",
       "    }\n",
       "\n",
       "    .dataframe tbody tr th {\n",
       "        vertical-align: top;\n",
       "    }\n",
       "\n",
       "    .dataframe thead th {\n",
       "        text-align: right;\n",
       "    }\n",
       "</style>\n",
       "<table border=\"1\" class=\"dataframe\">\n",
       "  <thead>\n",
       "    <tr style=\"text-align: right;\">\n",
       "      <th></th>\n",
       "      <th>Customer Id</th>\n",
       "      <th>Age</th>\n",
       "      <th>Employment Type</th>\n",
       "      <th>GraduateOrNot</th>\n",
       "      <th>AnnualIncome</th>\n",
       "      <th>FamilyMembers</th>\n",
       "      <th>ChronicDiseases</th>\n",
       "      <th>FrequentFlyer</th>\n",
       "      <th>EverTravelledAbroad</th>\n",
       "      <th>TravelInsurance</th>\n",
       "    </tr>\n",
       "  </thead>\n",
       "  <tbody>\n",
       "    <tr>\n",
       "      <th>0</th>\n",
       "      <td>3JUN0VW6F043</td>\n",
       "      <td>34</td>\n",
       "      <td>Private Sector/Self Employed</td>\n",
       "      <td>Yes</td>\n",
       "      <td>1300000</td>\n",
       "      <td>6</td>\n",
       "      <td>0</td>\n",
       "      <td>Yes</td>\n",
       "      <td>No</td>\n",
       "      <td>No</td>\n",
       "    </tr>\n",
       "    <tr>\n",
       "      <th>1</th>\n",
       "      <td>VLHY2ABIR4QL</td>\n",
       "      <td>28</td>\n",
       "      <td>Private Sector/Self Employed</td>\n",
       "      <td>Yes</td>\n",
       "      <td>750000</td>\n",
       "      <td>7</td>\n",
       "      <td>0</td>\n",
       "      <td>Yes</td>\n",
       "      <td>No</td>\n",
       "      <td>No</td>\n",
       "    </tr>\n",
       "    <tr>\n",
       "      <th>2</th>\n",
       "      <td>6E3F7UNXYNFF</td>\n",
       "      <td>28</td>\n",
       "      <td>Private Sector/Self Employed</td>\n",
       "      <td>Yes</td>\n",
       "      <td>750000</td>\n",
       "      <td>6</td>\n",
       "      <td>0</td>\n",
       "      <td>Yes</td>\n",
       "      <td>No</td>\n",
       "      <td>No</td>\n",
       "    </tr>\n",
       "    <tr>\n",
       "      <th>3</th>\n",
       "      <td>JJ8R0ZRYWR31</td>\n",
       "      <td>32</td>\n",
       "      <td>Government Sector</td>\n",
       "      <td>Yes</td>\n",
       "      <td>800000</td>\n",
       "      <td>6</td>\n",
       "      <td>1</td>\n",
       "      <td>No</td>\n",
       "      <td>No</td>\n",
       "      <td>No</td>\n",
       "    </tr>\n",
       "    <tr>\n",
       "      <th>4</th>\n",
       "      <td>2WGFUEX6IEHM</td>\n",
       "      <td>34</td>\n",
       "      <td>Private Sector/Self Employed</td>\n",
       "      <td>Yes</td>\n",
       "      <td>700000</td>\n",
       "      <td>4</td>\n",
       "      <td>1</td>\n",
       "      <td>No</td>\n",
       "      <td>No</td>\n",
       "      <td>No</td>\n",
       "    </tr>\n",
       "  </tbody>\n",
       "</table>\n",
       "</div>"
      ],
      "text/plain": [
       "    Customer Id  Age               Employment Type GraduateOrNot  \\\n",
       "0  3JUN0VW6F043   34  Private Sector/Self Employed           Yes   \n",
       "1  VLHY2ABIR4QL   28  Private Sector/Self Employed           Yes   \n",
       "2  6E3F7UNXYNFF   28  Private Sector/Self Employed           Yes   \n",
       "3  JJ8R0ZRYWR31   32             Government Sector           Yes   \n",
       "4  2WGFUEX6IEHM   34  Private Sector/Self Employed           Yes   \n",
       "\n",
       "   AnnualIncome  FamilyMembers  ChronicDiseases FrequentFlyer  \\\n",
       "0       1300000              6                0           Yes   \n",
       "1        750000              7                0           Yes   \n",
       "2        750000              6                0           Yes   \n",
       "3        800000              6                1            No   \n",
       "4        700000              4                1            No   \n",
       "\n",
       "  EverTravelledAbroad TravelInsurance  \n",
       "0                  No              No  \n",
       "1                  No              No  \n",
       "2                  No              No  \n",
       "3                  No              No  \n",
       "4                  No              No  "
      ]
     },
     "execution_count": 4,
     "metadata": {},
     "output_type": "execute_result"
    }
   ],
   "source": [
    "dfTrain.head()"
   ]
  },
  {
   "cell_type": "code",
   "execution_count": 5,
   "id": "6b502289",
   "metadata": {},
   "outputs": [
    {
     "data": {
      "text/plain": [
       "928553.4591194969"
      ]
     },
     "execution_count": 5,
     "metadata": {},
     "output_type": "execute_result"
    }
   ],
   "source": [
    "dfTrain[\"AnnualIncome\"].sum()/1590"
   ]
  },
  {
   "cell_type": "code",
   "execution_count": 6,
   "id": "0464af43",
   "metadata": {},
   "outputs": [
    {
     "data": {
      "text/plain": [
       "0       Yes\n",
       "1       Yes\n",
       "2       Yes\n",
       "3        No\n",
       "4        No\n",
       "       ... \n",
       "1585     No\n",
       "1586     No\n",
       "1587     No\n",
       "1588     No\n",
       "1589    Yes\n",
       "Name: FrequentFlyer, Length: 1590, dtype: object"
      ]
     },
     "execution_count": 6,
     "metadata": {},
     "output_type": "execute_result"
    }
   ],
   "source": [
    "dfTrain[\"FrequentFlyer\"]"
   ]
  },
  {
   "cell_type": "code",
   "execution_count": 7,
   "id": "79aeba6c",
   "metadata": {},
   "outputs": [],
   "source": [
    "from sklearn import preprocessing\n",
    "le = preprocessing.LabelEncoder()\n",
    "le.fit(['Yes', 'No'])\n",
    "\n",
    "def dfColChange(df, test=0):\n",
    "    df = df.copy()\n",
    "    df[\"Employment Type\"] = df[\"Employment Type\"].apply(lambda x: \"Yes\" if x==\"Private Sector/Self Employed\" else \"No\")\n",
    "    cols = [\"GraduateOrNot\", \"EverTravelledAbroad\", \"FrequentFlyer\", \"Employment Type\"]\n",
    "    if not test: cols.append(\"TravelInsurance\")\n",
    "    for col in cols:\n",
    "        df[col] = le.transform(df[col])\n",
    "    \n",
    "    return df"
   ]
  },
  {
   "cell_type": "code",
   "execution_count": 8,
   "id": "dc6de0ef",
   "metadata": {},
   "outputs": [
    {
     "data": {
      "text/plain": [
       "RandomForestClassifier(n_estimators=400, random_state=0)"
      ]
     },
     "execution_count": 8,
     "metadata": {},
     "output_type": "execute_result"
    }
   ],
   "source": [
    "from sklearn.ensemble import RandomForestClassifier\n",
    "\n",
    "df = dfColChange(dfTrain)\n",
    "X, y = df[[\"Age\",\"Employment Type\",\"GraduateOrNot\",\"AnnualIncome\",\"FamilyMembers\", \"ChronicDiseases\",\n",
    "        \"FrequentFlyer\",\"EverTravelledAbroad\"]] , df[\"TravelInsurance\"]\n",
    "\n",
    "clf = RandomForestClassifier(n_estimators=400, random_state=0)\n",
    "clf.fit(X,y)"
   ]
  },
  {
   "cell_type": "code",
   "execution_count": 9,
   "id": "90dcab2e",
   "metadata": {},
   "outputs": [
    {
     "data": {
      "text/html": [
       "<div>\n",
       "<style scoped>\n",
       "    .dataframe tbody tr th:only-of-type {\n",
       "        vertical-align: middle;\n",
       "    }\n",
       "\n",
       "    .dataframe tbody tr th {\n",
       "        vertical-align: top;\n",
       "    }\n",
       "\n",
       "    .dataframe thead th {\n",
       "        text-align: right;\n",
       "    }\n",
       "</style>\n",
       "<table border=\"1\" class=\"dataframe\">\n",
       "  <thead>\n",
       "    <tr style=\"text-align: right;\">\n",
       "      <th></th>\n",
       "      <th>Customer Id</th>\n",
       "      <th>prediction</th>\n",
       "    </tr>\n",
       "  </thead>\n",
       "  <tbody>\n",
       "    <tr>\n",
       "      <th>0</th>\n",
       "      <td>Q5OK4L2Q5XNH</td>\n",
       "      <td>0.898532</td>\n",
       "    </tr>\n",
       "    <tr>\n",
       "      <th>1</th>\n",
       "      <td>CBHVMVE7TRP5</td>\n",
       "      <td>1.000000</td>\n",
       "    </tr>\n",
       "    <tr>\n",
       "      <th>2</th>\n",
       "      <td>9UGHQ91U4F0M</td>\n",
       "      <td>0.323345</td>\n",
       "    </tr>\n",
       "    <tr>\n",
       "      <th>3</th>\n",
       "      <td>3UWXWMZK4ZGL</td>\n",
       "      <td>0.982500</td>\n",
       "    </tr>\n",
       "    <tr>\n",
       "      <th>4</th>\n",
       "      <td>5CGEMLMBOPES</td>\n",
       "      <td>0.089534</td>\n",
       "    </tr>\n",
       "    <tr>\n",
       "      <th>...</th>\n",
       "      <td>...</td>\n",
       "      <td>...</td>\n",
       "    </tr>\n",
       "    <tr>\n",
       "      <th>392</th>\n",
       "      <td>3T4IU1ZJNDIA</td>\n",
       "      <td>0.457060</td>\n",
       "    </tr>\n",
       "    <tr>\n",
       "      <th>393</th>\n",
       "      <td>N3ON6CQWDU4Z</td>\n",
       "      <td>0.494338</td>\n",
       "    </tr>\n",
       "    <tr>\n",
       "      <th>394</th>\n",
       "      <td>LWW08WASNJ2T</td>\n",
       "      <td>0.086704</td>\n",
       "    </tr>\n",
       "    <tr>\n",
       "      <th>395</th>\n",
       "      <td>L2RAKTUJP4HS</td>\n",
       "      <td>0.015292</td>\n",
       "    </tr>\n",
       "    <tr>\n",
       "      <th>396</th>\n",
       "      <td>6BPL2YN1MFAQ</td>\n",
       "      <td>0.062917</td>\n",
       "    </tr>\n",
       "  </tbody>\n",
       "</table>\n",
       "<p>397 rows × 2 columns</p>\n",
       "</div>"
      ],
      "text/plain": [
       "      Customer Id  prediction\n",
       "0    Q5OK4L2Q5XNH    0.898532\n",
       "1    CBHVMVE7TRP5    1.000000\n",
       "2    9UGHQ91U4F0M    0.323345\n",
       "3    3UWXWMZK4ZGL    0.982500\n",
       "4    5CGEMLMBOPES    0.089534\n",
       "..            ...         ...\n",
       "392  3T4IU1ZJNDIA    0.457060\n",
       "393  N3ON6CQWDU4Z    0.494338\n",
       "394  LWW08WASNJ2T    0.086704\n",
       "395  L2RAKTUJP4HS    0.015292\n",
       "396  6BPL2YN1MFAQ    0.062917\n",
       "\n",
       "[397 rows x 2 columns]"
      ]
     },
     "execution_count": 9,
     "metadata": {},
     "output_type": "execute_result"
    }
   ],
   "source": [
    "cols = [\"Age\",\"Employment Type\",\"GraduateOrNot\",\"AnnualIncome\",\"FamilyMembers\",\"ChronicDiseases\",\n",
    "        \"FrequentFlyer\",\"EverTravelledAbroad\"]\n",
    "test = dfColChange(dfTest, 1)\n",
    "yhat = clf.predict_proba(test[cols])\n",
    "\n",
    "newdf = pd.concat([test['Customer Id'], pd.Series(yhat[:,1])], axis=1, keys=['Customer Id', 'prediction'])\n",
    "newdf.to_csv('output2.csv', index=False)\n",
    "newdf"
   ]
  },
  {
   "cell_type": "code",
   "execution_count": null,
   "id": "4dd3c501",
   "metadata": {},
   "outputs": [],
   "source": []
  }
 ],
 "metadata": {
  "kernelspec": {
   "display_name": "Python 3",
   "language": "python",
   "name": "python3"
  },
  "language_info": {
   "codemirror_mode": {
    "name": "ipython",
    "version": 3
   },
   "file_extension": ".py",
   "mimetype": "text/x-python",
   "name": "python",
   "nbconvert_exporter": "python",
   "pygments_lexer": "ipython3",
   "version": "3.9.7"
  }
 },
 "nbformat": 4,
 "nbformat_minor": 5
}
