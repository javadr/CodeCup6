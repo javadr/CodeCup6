{
 "cells": [
  {
   "cell_type": "code",
   "execution_count": 27,
   "id": "fa63f1eb",
   "metadata": {},
   "outputs": [],
   "source": [
    "from matplotlib import pyplot as plt\n",
    "from pathlib import Path\n",
    "import pandas as pd\n",
    "\n",
    "from sklearn.model_selection import train_test_split\n",
    "from sklearn.preprocessing import LabelEncoder\n",
    "from sklearn.ensemble import RandomForestClassifier\n",
    "from sklearn.metrics import roc_curve, roc_auc_score"
   ]
  },
  {
   "cell_type": "code",
   "execution_count": 3,
   "id": "6b04cfa4",
   "metadata": {},
   "outputs": [],
   "source": [
    "path = Path('./travel_insurance/')\n",
    "\n",
    "Train = pd.read_csv(path/'train.csv')\n",
    "Test = pd.read_csv(path/'test.csv')"
   ]
  },
  {
   "cell_type": "code",
   "execution_count": 4,
   "id": "14f67d38",
   "metadata": {},
   "outputs": [
    {
     "name": "stdout",
     "output_type": "stream",
     "text": [
      "<class 'pandas.core.frame.DataFrame'>\n",
      "RangeIndex: 1590 entries, 0 to 1589\n",
      "Data columns (total 10 columns):\n",
      " #   Column               Non-Null Count  Dtype \n",
      "---  ------               --------------  ----- \n",
      " 0   Customer Id          1590 non-null   object\n",
      " 1   Age                  1590 non-null   int64 \n",
      " 2   Employment Type      1590 non-null   object\n",
      " 3   GraduateOrNot        1590 non-null   object\n",
      " 4   AnnualIncome         1590 non-null   int64 \n",
      " 5   FamilyMembers        1590 non-null   int64 \n",
      " 6   ChronicDiseases      1590 non-null   int64 \n",
      " 7   FrequentFlyer        1590 non-null   object\n",
      " 8   EverTravelledAbroad  1590 non-null   object\n",
      " 9   TravelInsurance      1590 non-null   object\n",
      "dtypes: int64(4), object(6)\n",
      "memory usage: 124.3+ KB\n"
     ]
    }
   ],
   "source": [
    "Train.info()"
   ]
  },
  {
   "cell_type": "code",
   "execution_count": 5,
   "id": "9511f934",
   "metadata": {},
   "outputs": [
    {
     "data": {
      "text/html": [
       "<div>\n",
       "<style scoped>\n",
       "    .dataframe tbody tr th:only-of-type {\n",
       "        vertical-align: middle;\n",
       "    }\n",
       "\n",
       "    .dataframe tbody tr th {\n",
       "        vertical-align: top;\n",
       "    }\n",
       "\n",
       "    .dataframe thead th {\n",
       "        text-align: right;\n",
       "    }\n",
       "</style>\n",
       "<table border=\"1\" class=\"dataframe\">\n",
       "  <thead>\n",
       "    <tr style=\"text-align: right;\">\n",
       "      <th></th>\n",
       "      <th>Customer Id</th>\n",
       "      <th>Age</th>\n",
       "      <th>Employment Type</th>\n",
       "      <th>GraduateOrNot</th>\n",
       "      <th>AnnualIncome</th>\n",
       "      <th>FamilyMembers</th>\n",
       "      <th>ChronicDiseases</th>\n",
       "      <th>FrequentFlyer</th>\n",
       "      <th>EverTravelledAbroad</th>\n",
       "      <th>TravelInsurance</th>\n",
       "    </tr>\n",
       "  </thead>\n",
       "  <tbody>\n",
       "    <tr>\n",
       "      <th>555</th>\n",
       "      <td>SV444B5KLI58</td>\n",
       "      <td>28</td>\n",
       "      <td>Private Sector/Self Employed</td>\n",
       "      <td>Yes</td>\n",
       "      <td>750000</td>\n",
       "      <td>3</td>\n",
       "      <td>0</td>\n",
       "      <td>No</td>\n",
       "      <td>No</td>\n",
       "      <td>No</td>\n",
       "    </tr>\n",
       "    <tr>\n",
       "      <th>1058</th>\n",
       "      <td>BPPOTMP5VP0W</td>\n",
       "      <td>33</td>\n",
       "      <td>Government Sector</td>\n",
       "      <td>Yes</td>\n",
       "      <td>400000</td>\n",
       "      <td>6</td>\n",
       "      <td>0</td>\n",
       "      <td>No</td>\n",
       "      <td>No</td>\n",
       "      <td>Yes</td>\n",
       "    </tr>\n",
       "    <tr>\n",
       "      <th>4</th>\n",
       "      <td>2WGFUEX6IEHM</td>\n",
       "      <td>34</td>\n",
       "      <td>Private Sector/Self Employed</td>\n",
       "      <td>Yes</td>\n",
       "      <td>700000</td>\n",
       "      <td>4</td>\n",
       "      <td>1</td>\n",
       "      <td>No</td>\n",
       "      <td>No</td>\n",
       "      <td>No</td>\n",
       "    </tr>\n",
       "    <tr>\n",
       "      <th>1052</th>\n",
       "      <td>6ZWJFDABTT19</td>\n",
       "      <td>25</td>\n",
       "      <td>Private Sector/Self Employed</td>\n",
       "      <td>Yes</td>\n",
       "      <td>1400000</td>\n",
       "      <td>8</td>\n",
       "      <td>0</td>\n",
       "      <td>No</td>\n",
       "      <td>Yes</td>\n",
       "      <td>Yes</td>\n",
       "    </tr>\n",
       "    <tr>\n",
       "      <th>403</th>\n",
       "      <td>WO7SU04ON7X1</td>\n",
       "      <td>35</td>\n",
       "      <td>Private Sector/Self Employed</td>\n",
       "      <td>No</td>\n",
       "      <td>800000</td>\n",
       "      <td>5</td>\n",
       "      <td>0</td>\n",
       "      <td>No</td>\n",
       "      <td>No</td>\n",
       "      <td>Yes</td>\n",
       "    </tr>\n",
       "  </tbody>\n",
       "</table>\n",
       "</div>"
      ],
      "text/plain": [
       "       Customer Id  Age               Employment Type GraduateOrNot  \\\n",
       "555   SV444B5KLI58   28  Private Sector/Self Employed           Yes   \n",
       "1058  BPPOTMP5VP0W   33             Government Sector           Yes   \n",
       "4     2WGFUEX6IEHM   34  Private Sector/Self Employed           Yes   \n",
       "1052  6ZWJFDABTT19   25  Private Sector/Self Employed           Yes   \n",
       "403   WO7SU04ON7X1   35  Private Sector/Self Employed            No   \n",
       "\n",
       "      AnnualIncome  FamilyMembers  ChronicDiseases FrequentFlyer  \\\n",
       "555         750000              3                0            No   \n",
       "1058        400000              6                0            No   \n",
       "4           700000              4                1            No   \n",
       "1052       1400000              8                0            No   \n",
       "403         800000              5                0            No   \n",
       "\n",
       "     EverTravelledAbroad TravelInsurance  \n",
       "555                   No              No  \n",
       "1058                  No             Yes  \n",
       "4                     No              No  \n",
       "1052                 Yes             Yes  \n",
       "403                   No             Yes  "
      ]
     },
     "execution_count": 5,
     "metadata": {},
     "output_type": "execute_result"
    }
   ],
   "source": [
    "train.head()"
   ]
  },
  {
   "cell_type": "code",
   "execution_count": 62,
   "id": "f8927713",
   "metadata": {},
   "outputs": [
    {
     "data": {
      "text/plain": [
       "(array([46., 60., 51., 78., 42., 61., 66., 38., 20., 15.]),\n",
       " array([ 300000.,  450000.,  600000.,  750000.,  900000., 1050000.,\n",
       "        1200000., 1350000., 1500000., 1650000., 1800000.]),\n",
       " <BarContainer object of 10 artists>)"
      ]
     },
     "execution_count": 62,
     "metadata": {},
     "output_type": "execute_result"
    },
    {
     "data": {
      "image/png": "[encoded data removed]",
      "text/plain": [
       "<Figure size 432x288 with 1 Axes>"
      ]
     },
     "metadata": {
      "needs_background": "light"
     },
     "output_type": "display_data"
    }
   ],
   "source": [
    "plt.hist(train['AnnualIncome'])"
   ]
  },
  {
   "cell_type": "code",
   "execution_count": 6,
   "id": "bf468704",
   "metadata": {},
   "outputs": [
    {
     "name": "stdout",
     "output_type": "stream",
     "text": [
      "1590 10\n",
      "928553\n",
      "302\n",
      "Private Sector/Self Employed 72.64\n",
      "10.50\n"
     ]
    }
   ],
   "source": [
    "# Solution to `Exploration - Insurance`\n",
    "# Part 1_1\n",
    "nrow, ncol = len(Train), len(Train.columns)\n",
    "print(f\"{nrow} {ncol}\")\n",
    "# Part 1_2\n",
    "print(int(Train['AnnualIncome'].sum()/nrow))\n",
    "# Part 1_3\n",
    "print( (Train['EverTravelledAbroad']=='Yes').sum())\n",
    "# Part 1_4\n",
    "gk = Train.groupby('Employment Type')\n",
    "govSect, priSect = len(gk.groups['Government Sector']), len(gk.groups['Private Sector/Self Employed'])\n",
    "if  govSect>priSect:\n",
    "    secPercent =  govSect/nrow\n",
    "    title = 'Goverment Sector'\n",
    "else:\n",
    "    secPercent = priSect/nrow\n",
    "    title = 'Private Sector/Self Employed'\n",
    "print(f\"{title} {secPercent*100:.2f}\")\n",
    "# Part 1_5\n",
    "diseasesTravelIns = ((Train[Train['ChronicDiseases']==1])['TravelInsurance']=='Yes').sum()\n",
    "print( f\"{diseasesTravelIns/nrow*100:.2f}\" )\n"
   ]
  },
  {
   "cell_type": "code",
   "execution_count": 35,
   "id": "1cfc10e7",
   "metadata": {},
   "outputs": [],
   "source": [
    "le = LabelEncoder().fit(['Yes', 'No'])\n",
    "\n",
    "def PreProcessing(df, train=False):\n",
    "    df = df.copy()\n",
    "    df[\"Employment Type\"] = df[\"Employment Type\"].apply(lambda x: \"Yes\" if x==\"Private Sector/Self Employed\" else \"No\")\n",
    "    cols = [\"GraduateOrNot\", \"EverTravelledAbroad\", \"FrequentFlyer\", \"Employment Type\"]\n",
    "    if train:\n",
    "        cols.append(\"TravelInsurance\")\n",
    "    for col in cols:\n",
    "        df[col] = le.transform(df[col])\n",
    "    return df"
   ]
  },
  {
   "cell_type": "code",
   "execution_count": 42,
   "id": "2ac1dba5",
   "metadata": {},
   "outputs": [],
   "source": [
    "def drawROC(yhat, yval, modelname):\n",
    "    # generate a no skill prediction (majority class)\n",
    "    ns_probs = [1 for _ in range(len(yhat))]\n",
    "    # keep probabilities for the positive outcome only\n",
    "    yhat = yhat[:, 1]\n",
    "    # calculate scores\n",
    "    ns_auc = roc_auc_score(yval, ns_probs)\n",
    "    rl_auc = roc_auc_score(yval, yhat)\n",
    "    # summarize scores\n",
    "    print(f\"No Skill: ROC AUC={ns_auc:.3g}\")\n",
    "    print(f\"{modelname}: ROC AUC={rl_auc:.3g}\")\n",
    "    # calculate roc curves\n",
    "    ns_fpr, ns_tpr, _ = roc_curve(y_val, ns_probs)\n",
    "    fpr, tpr, _ = roc_curve(y_val, yhat)\n",
    "    # plot the roc curve for the model\n",
    "    plt.plot(ns_fpr, ns_tpr, linestyle='--', label='No Skill')\n",
    "    plt.plot(fpr, tpr, marker='.', label=modelname)\n",
    "    # axis labels\n",
    "    plt.xlabel('False Positive Rate')\n",
    "    plt.ylabel('True Positive Rate')\n",
    "    # show the legend\n",
    "    plt.legend()\n",
    "    # show the plot\n",
    "    plt.show()"
   ]
  },
  {
   "cell_type": "code",
   "execution_count": 59,
   "id": "79aeba6c",
   "metadata": {},
   "outputs": [
    {
     "name": "stdout",
     "output_type": "stream",
     "text": [
      "No Skill: ROC AUC=0.5\n",
      "Random Forest: ROC AUC=0.831\n"
     ]
    },
    {
     "data": {
      "image/png": "[encoded data removed]",
      "text/plain": [
       "<Figure size 432x288 with 1 Axes>"
      ]
     },
     "metadata": {
      "needs_background": "light"
     },
     "output_type": "display_data"
    }
   ],
   "source": [
    "df = PreProcessing(Train, train=True)\n",
    "X, y = df[[\"Age\",\"Employment Type\",\"GraduateOrNot\",\"AnnualIncome\",\"FamilyMembers\", \"ChronicDiseases\",\n",
    "        \"FrequentFlyer\",\"EverTravelledAbroad\"]] , df[\"TravelInsurance\"]\n",
    "X_train, X_val, y_train, y_val = train_test_split(X,y, test_size=.25)\n",
    "\n",
    "model = RandomForestClassifier(n_estimators=400, random_state=14, max_depth=12, criterion='entropy')\n",
    "model.fit(X_train,y_train)\n",
    "\n",
    "# predict probabilities\n",
    "yhat = model.predict_proba(X_val)\n",
    "\n",
    "drawROC(yhat, y_val, 'Random Forest')"
   ]
  },
  {
   "cell_type": "code",
   "execution_count": 65,
   "id": "7beb86e7",
   "metadata": {},
   "outputs": [
    {
     "data": {
      "text/html": [
       "<div>\n",
       "<style scoped>\n",
       "    .dataframe tbody tr th:only-of-type {\n",
       "        vertical-align: middle;\n",
       "    }\n",
       "\n",
       "    .dataframe tbody tr th {\n",
       "        vertical-align: top;\n",
       "    }\n",
       "\n",
       "    .dataframe thead th {\n",
       "        text-align: right;\n",
       "    }\n",
       "</style>\n",
       "<table border=\"1\" class=\"dataframe\">\n",
       "  <thead>\n",
       "    <tr style=\"text-align: right;\">\n",
       "      <th></th>\n",
       "      <th>Customer Id</th>\n",
       "      <th>prediction</th>\n",
       "    </tr>\n",
       "  </thead>\n",
       "  <tbody>\n",
       "    <tr>\n",
       "      <th>0</th>\n",
       "      <td>Q5OK4L2Q5XNH</td>\n",
       "      <td>0.898532</td>\n",
       "    </tr>\n",
       "    <tr>\n",
       "      <th>1</th>\n",
       "      <td>CBHVMVE7TRP5</td>\n",
       "      <td>1.000000</td>\n",
       "    </tr>\n",
       "    <tr>\n",
       "      <th>2</th>\n",
       "      <td>9UGHQ91U4F0M</td>\n",
       "      <td>0.323345</td>\n",
       "    </tr>\n",
       "    <tr>\n",
       "      <th>3</th>\n",
       "      <td>3UWXWMZK4ZGL</td>\n",
       "      <td>0.982500</td>\n",
       "    </tr>\n",
       "    <tr>\n",
       "      <th>4</th>\n",
       "      <td>5CGEMLMBOPES</td>\n",
       "      <td>0.089534</td>\n",
       "    </tr>\n",
       "    <tr>\n",
       "      <th>...</th>\n",
       "      <td>...</td>\n",
       "      <td>...</td>\n",
       "    </tr>\n",
       "    <tr>\n",
       "      <th>392</th>\n",
       "      <td>3T4IU1ZJNDIA</td>\n",
       "      <td>0.457060</td>\n",
       "    </tr>\n",
       "    <tr>\n",
       "      <th>393</th>\n",
       "      <td>N3ON6CQWDU4Z</td>\n",
       "      <td>0.494338</td>\n",
       "    </tr>\n",
       "    <tr>\n",
       "      <th>394</th>\n",
       "      <td>LWW08WASNJ2T</td>\n",
       "      <td>0.086704</td>\n",
       "    </tr>\n",
       "    <tr>\n",
       "      <th>395</th>\n",
       "      <td>L2RAKTUJP4HS</td>\n",
       "      <td>0.015292</td>\n",
       "    </tr>\n",
       "    <tr>\n",
       "      <th>396</th>\n",
       "      <td>6BPL2YN1MFAQ</td>\n",
       "      <td>0.062917</td>\n",
       "    </tr>\n",
       "  </tbody>\n",
       "</table>\n",
       "<p>397 rows × 2 columns</p>\n",
       "</div>"
      ],
      "text/plain": [
       "      Customer Id  prediction\n",
       "0    Q5OK4L2Q5XNH    0.898532\n",
       "1    CBHVMVE7TRP5    1.000000\n",
       "2    9UGHQ91U4F0M    0.323345\n",
       "3    3UWXWMZK4ZGL    0.982500\n",
       "4    5CGEMLMBOPES    0.089534\n",
       "..            ...         ...\n",
       "392  3T4IU1ZJNDIA    0.457060\n",
       "393  N3ON6CQWDU4Z    0.494338\n",
       "394  LWW08WASNJ2T    0.086704\n",
       "395  L2RAKTUJP4HS    0.015292\n",
       "396  6BPL2YN1MFAQ    0.062917\n",
       "\n",
       "[397 rows x 2 columns]"
      ]
     },
     "execution_count": 65,
     "metadata": {},
     "output_type": "execute_result"
    }
   ],
   "source": [
    "cols = [\"Age\",\"Employment Type\",\"GraduateOrNot\",\"AnnualIncome\",\"FamilyMembers\",\"ChronicDiseases\",\n",
    "        \"FrequentFlyer\",\"EverTravelledAbroad\"]\n",
    "test = PreProcessing(Test)\n",
    "yhat = clf.predict_proba(test[cols])\n",
    "\n",
    "newdf = pd.concat([test['Customer Id'], pd.Series(yhat[:,1])], axis=1, keys=['Customer Id', 'prediction'])\n",
    "newdf.to_csv('output2.csv', index=False)\n",
    "newdf"
   ]
  }
 ],
 "metadata": {
  "kernelspec": {
   "display_name": "Python 3",
   "language": "python",
   "name": "python3"
  },
  "language_info": {
   "codemirror_mode": {
    "name": "ipython",
    "version": 3
   },
   "file_extension": ".py",
   "mimetype": "text/x-python",
   "name": "python",
   "nbconvert_exporter": "python",
   "pygments_lexer": "ipython3",
   "version": "3.9.7"
  }
 },
 "nbformat": 4,
 "nbformat_minor": 5
}
